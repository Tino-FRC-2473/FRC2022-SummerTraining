{
  "cells": [
    {
      "cell_type": "code",
      "execution_count": 1,
      "metadata": {
        "colab": {
          "background_save": true
        },
        "id": "y1oJzVqMTJeD",
        "outputId": "ad7ca72a-e34d-4784-a2fd-e2b55568c979"
      },
      "outputs": [],
      "source": [
        "import cv2\n",
        "import numpy as np\n",
        "import matplotlib.pyplot as plt\n",
        "import math\n",
        "\n",
        "#Dimensions of RR tape\n",
        "REAL_HEIGHT = 5 #cm\n",
        "REAL_WIDTH = 13 #cm\n",
        "\n",
        "#RR tape masks\n",
        "hsvLow = np.array([45, 200, 200])\n",
        "hsvHigh = np.array([75, 255, 255])\n",
        "\n",
        "#Limelight constants\n",
        "PIXELS_WIDE = 320 #pixels\n",
        "PIXELS_HIGH = 240 #pixels\n",
        "FOV_Y = 49.7 #degrees\n",
        "FOV_X = 59.6 #degrees\n",
        "FOCAL_LENGTH = (PIXELS_HIGH / 2) / np.tan(math.pi / 180 * FOV_Y / 2)\n",
        "\n",
        "#Other parameters\n",
        "TARGET_HEIGHT = 240 #cm (measured from the top of the target to the ground)\n",
        "CAMERA_HEIGHT = 114.3 #cm\n",
        "CAMERA_ANGLE = 20 # degrees"
      ]
    },
    {
      "cell_type": "markdown",
      "metadata": {},
      "source": [
        "contour functions"
      ]
    },
    {
      "cell_type": "code",
      "execution_count": null,
      "metadata": {},
      "outputs": [],
      "source": [
        "#returns a contour that follows the following criteria: largest contour thats aspect ratio is between 2 and 3\n",
        "def contour_criteria(contours):\n",
        "  max = 0\n",
        "  for i in range(1, len(contours)):\n",
        "    x, y, width, height = cv2.boundingRect(contours[i])\n",
        "    if cv2.contourArea(contours[i]) > cv2.contourArea(contours[max]) and width / height > 2 and width / height < 3:\n",
        "        max = i\n",
        "  return contours[max]\n",
        "  \n",
        "#returns the contour of one of the detected RR tapes\n",
        "def getGoalContour(image):\n",
        "  hsv = cv2.cvtColor(image, cv2.COLOR_BGR2HSV)\n",
        "  mask = cv2.inRange(hsv, hsvLow, hsvHigh)\n",
        "  contours, hiearchy = cv2.findContours(mask, cv2.RETR_EXTERNAL, cv2.CHAIN_APPROX_SIMPLE)\n",
        "\n",
        "  #If there are no contours found in the image, None is returned\n",
        "  if(len(contours) > 0):\n",
        "    contour = contour_criteria(contours)\n",
        "    return contour\n",
        "  return None"
      ]
    },
    {
      "cell_type": "markdown",
      "metadata": {},
      "source": [
        "Distance & turn angle things"
      ]
    },
    {
      "cell_type": "code",
      "execution_count": null,
      "metadata": {},
      "outputs": [],
      "source": [
        "#returns the horizontal distance (cm) from the RR tape to the camera\n",
        "def getDistance(contour):\n",
        "  x, y, width, height = cv2.boundingRect(contour)\n",
        "  \n",
        "  #normalizing the top y position of the goal contour to be from [1,-1]\n",
        "  norm_Y = - (y - (PIXELS_HIGH / 2)) / (PIXELS_HIGH / 2)\n",
        "\n",
        "  #finding the vertical angle (pitch) between the camera and the goal contour \n",
        "  pitch = 180 * np.arctan(norm_Y * np.tan(FOV_Y / 2 * math.pi / 180)) / math.pi # degrees\n",
        "\n",
        "  #using trig to determine distance\n",
        "  distance = (TARGET_HEIGHT - CAMERA_HEIGHT) / np.tan(math.pi * (CAMERA_ANGLE + pitch) / 180)\n",
        "\n",
        "  return distance\n",
        "\n",
        "#returns angle (deg) of the RR tape relative to the camera\n",
        "def getAngle(contour):\n",
        "  x, y, width, height = cv2.boundingRect(contour)\n",
        "\n",
        "  #normalizing the left x position of the goal contour to be from [1,-1]\n",
        "  norm_X = (x - (PIXELS_WIDE / 2)) / (PIXELS_WIDE / 2)\n",
        "\n",
        "  #finding the horizontal angle between the camera and left edge of the goal contour\n",
        "  angle = 180 * np.arctan(norm_X * np.tan(FOV_X / 2 * math.pi / 180)) / math.pi #degrees\n",
        "\n",
        "  return angle\n",
        "\n",
        "#TESTING\n",
        "REAL_DIST = 10 #ft\n",
        "img_test = cv2.imread(str(REAL_DIST) + 'ft.jpg')\n",
        "contours, hiearchy = cv2.findContours(cv2.inRange(cv2.cvtColor(img_test, cv2.COLOR_BGR2HSV), np.array([0, 70, 100]), np.array([20, 255, 255])), cv2.RETR_EXTERNAL, cv2.CHAIN_APPROX_SIMPLE)\n",
        "contour = contour_criteria(contours)\n",
        "plt.imshow(cv2.drawContours(cv2.cvtColor(img_test.copy(), cv2.COLOR_BGR2RGB), [contour], -1, (0, 255, 0), 3), cmap='gray')\n",
        "plt.show()\n",
        "distance = getDistance(contour)\n",
        "angle = getAngle(contour)\n",
        "print('Calculated Distance: ' + str(distance))\n",
        "print('Real Distance: ' + str(REAL_DIST * 30))\n",
        "print('Turn Angle: ' + str(angle))\n"
      ]
    },
    {
      "cell_type": "markdown",
      "metadata": {},
      "source": [
        "Best pipeline ever to step foot in a code cell"
      ]
    },
    {
      "cell_type": "code",
      "execution_count": null,
      "metadata": {},
      "outputs": [],
      "source": [
        "def runPipeline(image, llrobot):\n",
        "  #do stuff\n",
        "  goal = getGoalContour(image)\n",
        "  distance = getDistance(goal)\n",
        "  angle = getAngle(goal)\n",
        "  output = [distance, angle]\n",
        "\n",
        "  #DONT TOUCH\n",
        "  low_threshold = np.array([240, 0, 0])\n",
        "  high_threshold = np.array([255, 255, 255])\n",
        "  binary = np.all((image > low_threshold) * (image <= high_threshold), axis=2)\n",
        "  mask = np.where(binary, 255, 0)\n",
        "  output_image = image.copy()\n",
        "  output_image[mask > 0] = [255, 255, 255]\n",
        "  return ([[[0, 0]], [[0, 100]], [[100, 0]], [[100, 100]]], output_image, output)"
      ]
    }
  ],
  "metadata": {
    "colab": {
      "collapsed_sections": [],
      "name": "shootingTarget.ipynb",
      "provenance": []
    },
    "kernelspec": {
      "display_name": "Python 3.9.13 64-bit (windows store)",
      "language": "python",
      "name": "python3"
    },
    "language_info": {
      "codemirror_mode": {
        "name": "ipython",
        "version": 3
      },
      "file_extension": ".py",
      "mimetype": "text/x-python",
      "name": "python",
      "nbconvert_exporter": "python",
      "pygments_lexer": "ipython3",
      "version": "3.9.13"
    },
    "vscode": {
      "interpreter": {
        "hash": "1cc11500e49786d8b88b748f57eda49d7830df1abf60db73678933126a43c941"
      }
    }
  },
  "nbformat": 4,
  "nbformat_minor": 0
}
