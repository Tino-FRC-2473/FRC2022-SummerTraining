{
  "cells": [
    {
      "cell_type": "code",
      "execution_count": 47,
      "metadata": {
        "id": "y1oJzVqMTJeD"
      },
      "outputs": [],
      "source": [
        "import cv2\n",
        "import numpy as np\n",
        "import matplotlib.pyplot as plt\n",
        "import math\n",
        "\n",
        "#Dimensions of RR tape\n",
        "REAL_HEIGHT = 5 #cm\n",
        "REAL_WIDTH = 13 #cm\n",
        "\n",
        "#RR tape masks\n",
        "hsvLow = np.array([40, 40, 40])\n",
        "hsvHigh = np.array([80, 255, 255])\n",
        "\n",
        "#Limelight constants\n",
        "PIXELS_WIDE = 320 #pixels\n",
        "PIXELS_HIGH = 240 #pixels\n",
        "FOV_Y = 49.7 #degrees\n",
        "FOV_X = 59.6 #degrees\n",
        "FOCAL_LENGTH = (PIXELS_HIGH / 2) / np.tan(math.pi / 180 * FOV_Y / 2)\n",
        "\n",
        "#Other parameters\n",
        "TARGET_HEIGHT = 263 #cm (measured from the top of the target to the ground)\n",
        "CAMERA_HEIGHT = 61 #cm\n",
        "CAMERA_ANGLE = 32 # degrees"
      ]
    },
    {
      "cell_type": "markdown",
      "source": [
        "Contour functions"
      ],
      "metadata": {
        "id": "4SkudBbPY8Gr"
      }
    },
    {
      "cell_type": "code",
      "execution_count": 48,
      "metadata": {
        "id": "utgRYP6Dq0qx"
      },
      "outputs": [],
      "source": [
        "#returns the contour of one of the detected RR tapes\n",
        "def getGoalContour(image):\n",
        "  #Mask filtering\n",
        "  hsv = cv2.cvtColor(image, cv2.COLOR_BGR2HSV)\n",
        "  mask = cv2.inRange(hsv, hsvLow, hsvHigh)\n",
        "  contours, hiearchy = cv2.findContours(mask, cv2.RETR_EXTERNAL, cv2.CHAIN_APPROX_SIMPLE)\n",
        "\n",
        "  #If no contours found, return None\n",
        "  if(len(contours) > 0):\n",
        "\n",
        "    #sorting an array of all x positions of contours\n",
        "    contour_xcoords = []\n",
        "    for contour in contours:\n",
        "        x, y, width, height = cv2.boundingRect(contour)\n",
        "        contour_xcoords.append(x)\n",
        "    contour_xcoords = np.sort(contour_xcoords)\n",
        "    median_x = contour_xcoords[int(len(contours) / 2)]\n",
        "\n",
        "    #finding the contour with the median x position\n",
        "    target_contour = None\n",
        "    for contour in contours:\n",
        "        x, y, width, height = cv2.boundingRect(contour)\n",
        "        if(x == median_x):\n",
        "          target_contour = contour\n",
        "          break\n",
        "\n",
        "    plt.imshow(cv2.drawContours(cv2.cvtColor(cv2.inRange(cv2.cvtColor(img_test, cv2.COLOR_BGR2HSV), hsvLow, hsvHigh), cv2.COLOR_BGR2RGB), [target_contour], -1, (255, 140, 191), 3), cmap='gray')\n",
        "    plt.show()\n",
        "\n",
        "    return target_contour\n",
        "  return None"
      ]
    },
    {
      "cell_type": "markdown",
      "source": [
        "\n",
        "\n",
        "```\n",
        "# This is formatted as code\n",
        "```\n",
        "\n",
        "Distance & turn angle things"
      ],
      "metadata": {
        "id": "IjMgwz1HY1HQ"
      }
    },
    {
      "cell_type": "code",
      "execution_count": 49,
      "metadata": {
        "id": "OYx3qMTLrJeq"
      },
      "outputs": [],
      "source": [
        "#returns the horizontal distance (cm) from the RR tape to the camera\n",
        "def getDistance(contour):\n",
        "  x, y, width, height = cv2.boundingRect(contour)\n",
        "  \n",
        "  #normalizing the top y position of the goal contour to be from [1,-1]\n",
        "  norm_Y = - (y - (PIXELS_HIGH / 2)) / (PIXELS_HIGH / 2)\n",
        "\n",
        "  #finding the vertical angle (pitch) between the camera and the goal contour \n",
        "  pitch = 180 * np.arctan(norm_Y * np.tan(FOV_Y / 2 * math.pi / 180)) / math.pi # degrees\n",
        "  \n",
        "  #using trig to determine distance\n",
        "  distance = (TARGET_HEIGHT - CAMERA_HEIGHT) / np.tan(math.pi * (CAMERA_ANGLE + pitch) / 180)\n",
        "\n",
        "  return distance\n",
        "  \n",
        "#returns angle (deg) of the RR tape relative to the camera\n",
        "def getAngle(contour):\n",
        "  x, y, width, height = cv2.boundingRect(contour)\n",
        "\n",
        "  #normalizing the left x position of the goal contour to be from [1,-1]\n",
        "  norm_X = (x - (PIXELS_WIDE / 2)) / (PIXELS_WIDE / 2)\n",
        "\n",
        "  #finding the horizontal angle between the camera and left edge of the goal contour\n",
        "  angle = 180 * np.arctan(norm_X * np.tan(FOV_X / 2 * math.pi / 180)) / math.pi #degrees\n",
        "  return angle"
      ]
    },
    {
      "cell_type": "markdown",
      "source": [
        "Launch Speed calculation"
      ],
      "metadata": {
        "id": "w_Mwa6QbuiJh"
      }
    },
    {
      "cell_type": "code",
      "source": [
        "#converts the launch speed of the ball needed in m / s to motor power of the shooter\n",
        "def launchSpeed2MotorPower(speed, K = 1e-1):\n",
        "  return K * speed\n",
        "\n",
        "#distance buffer is the amount of distance added to minimize error and to allow the ball to go to the middle of the target, not the front\n",
        "# parameter units are degrees and cm\n",
        "def getMotorPower(distance, angle = 65, height = TARGET_HEIGHT, distance_buffer = 10):\n",
        "  g = 9.81\n",
        "  d = (distance + distance_buffer) / 100\n",
        "  theta = angle * math.pi / 180\n",
        "  h = height / 100\n",
        "  return launchSpeed2MotorPower(((d * np.sqrt(g)) / (np.cos(theta) * np.sqrt(2 * (d * np.tan(theta) - h)))))"
      ],
      "metadata": {
        "id": "oSyPkWo0smiY"
      },
      "execution_count": 50,
      "outputs": []
    },
    {
      "cell_type": "markdown",
      "source": [
        "Testing Cell"
      ],
      "metadata": {
        "id": "K1FPpCXaApUe"
      }
    },
    {
      "cell_type": "code",
      "source": [
        "for i in range(163,173):\n",
        "  img_test = cv2.imread(str(i) + '.jpg')\n",
        "  contour = getGoalContour(img_test)\n",
        "  distance = getDistance(contour)\n",
        "  REAL_DIST = 30 / 12 * ((i - 163) * 12 + 60)\n",
        "  motor_power = getMotorPower(distance)\n",
        "  REAL_MOTOR_POWER = getMotorPower(REAL_DIST)\n",
        "  print('Calculated distance: ' + str(distance))\n",
        "  print('Real distance: ' + str(REAL_DIST))\n",
        "  print('Calculated power: ' + str(motor_power))\n",
        "  print('Real power: ' + str(REAL_MOTOR_POWER))"
      ],
      "metadata": {
        "colab": {
          "base_uri": "https://localhost:8080/",
          "height": 1000
        },
        "id": "e3LmgRKsAmBL",
        "outputId": "d47f9d18-045d-483f-950a-6210e21b9cb7"
      },
      "execution_count": 51,
      "outputs": [
        {
          "output_type": "display_data",
          "data": {
            "text/plain": [
              "<Figure size 432x288 with 1 Axes>"
            ],
            "image/png": "[encoded data removed]"
          },
          "metadata": {
            "needs_background": "light"
          }
        },
        {
          "output_type": "stream",
          "name": "stdout",
          "text": [
            "Calculated distance: 162.6774769258773\n",
            "Real distance: 150.0\n",
            "Calculated power: 0.861595353923444\n",
            "Real power: 0.9196775160405102\n"
          ]
        },
        {
          "output_type": "display_data",
          "data": {
            "text/plain": [
              "<Figure size 432x288 with 1 Axes>"
            ],
            "image/png": "[encoded data removed]"
          },
          "metadata": {
            "needs_background": "light"
          }
        },
        {
          "output_type": "stream",
          "name": "stdout",
          "text": [
            "Calculated distance: 201.73404728617854\n",
            "Real distance: 180.0\n",
            "Calculated power: 0.7965044236273826\n",
            "Real power: 0.8199609299404845\n"
          ]
        },
        {
          "output_type": "display_data",
          "data": {
            "text/plain": [
              "<Figure size 432x288 with 1 Axes>"
            ],
            "image/png": "[encoded data removed]"
          },
          "metadata": {
            "needs_background": "light"
          }
        },
        {
          "output_type": "stream",
          "name": "stdout",
          "text": [
            "Calculated distance: 228.9425182508908\n",
            "Real distance: 210.0\n",
            "Calculated power: 0.7881485178110182\n",
            "Real power: 0.7922087612625952\n"
          ]
        },
        {
          "output_type": "display_data",
          "data": {
            "text/plain": [
              "<Figure size 432x288 with 1 Axes>"
            ],
            "image/png": "[encoded data removed]"
          },
          "metadata": {
            "needs_background": "light"
          }
        },
        {
          "output_type": "stream",
          "name": "stdout",
          "text": [
            "Calculated distance: 253.00153758068691\n",
            "Real distance: 240.0\n",
            "Calculated power: 0.790472174337337\n",
            "Real power: 0.7884189062660318\n"
          ]
        },
        {
          "output_type": "display_data",
          "data": {
            "text/plain": [
              "<Figure size 432x288 with 1 Axes>"
            ],
            "image/png": "[encoded data removed]"
          },
          "metadata": {
            "needs_background": "light"
          }
        },
        {
          "output_type": "stream",
          "name": "stdout",
          "text": [
            "Calculated distance: 273.84842510994366\n",
            "Real distance: 270.0\n",
            "Calculated power: 0.7965673028302247\n",
            "Real power: 0.7952340999248676\n"
          ]
        },
        {
          "output_type": "display_data",
          "data": {
            "text/plain": [
              "<Figure size 432x288 with 1 Axes>"
            ],
            "image/png": "[encoded data removed]"
          },
          "metadata": {
            "needs_background": "light"
          }
        },
        {
          "output_type": "stream",
          "name": "stdout",
          "text": [
            "Calculated distance: 302.10380931849517\n",
            "Real distance: 300.0\n",
            "Calculated power: 0.8084344017749319\n",
            "Real power: 0.8074473614435006\n"
          ]
        },
        {
          "output_type": "display_data",
          "data": {
            "text/plain": [
              "<Figure size 432x288 with 1 Axes>"
            ],
            "image/png": "[encoded data removed]"
          },
          "metadata": {
            "needs_background": "light"
          }
        },
        {
          "output_type": "stream",
          "name": "stdout",
          "text": [
            "Calculated distance: 323.2675748662922\n",
            "Real distance: 330.0\n",
            "Calculated power: 0.8190386559644077\n",
            "Real power: 0.8226260749044857\n"
          ]
        },
        {
          "output_type": "display_data",
          "data": {
            "text/plain": [
              "<Figure size 432x288 with 1 Axes>"
            ],
            "image/png": "[encoded data removed]"
          },
          "metadata": {
            "needs_background": "light"
          }
        },
        {
          "output_type": "stream",
          "name": "stdout",
          "text": [
            "Calculated distance: 356.03155477382154\n",
            "Real distance: 360.0\n",
            "Calculated power: 0.8371973090728174\n",
            "Real power: 0.8394966407735911\n"
          ]
        },
        {
          "output_type": "display_data",
          "data": {
            "text/plain": [
              "<Figure size 432x288 with 1 Axes>"
            ],
            "image/png": "[encoded data removed]"
          },
          "metadata": {
            "needs_background": "light"
          }
        },
        {
          "output_type": "stream",
          "name": "stdout",
          "text": [
            "Calculated distance: 386.6164680870115\n",
            "Real distance: 390.0\n",
            "Calculated power: 0.8552928539011604\n",
            "Real power: 0.8573384015450355\n"
          ]
        },
        {
          "output_type": "display_data",
          "data": {
            "text/plain": [
              "<Figure size 432x288 with 1 Axes>"
            ],
            "image/png": "[encoded data removed]"
          },
          "metadata": {
            "needs_background": "light"
          }
        },
        {
          "output_type": "stream",
          "name": "stdout",
          "text": [
            "Calculated distance: 409.25679484409386\n",
            "Real distance: 420.0\n",
            "Calculated power: 0.8690950053149605\n",
            "Real power: 0.875720373498373\n"
          ]
        }
      ]
    },
    {
      "cell_type": "markdown",
      "source": [
        "# Best pipeline ever to step foot in a code cell"
      ],
      "metadata": {
        "id": "9vhT1sNHYoT_"
      }
    },
    {
      "cell_type": "code",
      "execution_count": 52,
      "metadata": {
        "id": "r_c0STeYrObp"
      },
      "outputs": [],
      "source": [
        "def runPipeline(image, llrobot):\n",
        "  goal = getGoalContour(image)\n",
        "  distance = getDistance(goal)\n",
        "  angle = getAngle(goal)\n",
        "  output = [distance, angle]\n",
        "  return ([[[0, 0]], [[0, 100]], [[100, 0]], [[100, 100]]], cv2.drawContours(image.copy(), [goal], -1, (255, 0, 0), 3), output)"
      ]
    }
  ],
  "metadata": {
    "colab": {
      "collapsed_sections": [],
      "provenance": []
    },
    "kernelspec": {
      "display_name": "Python 3",
      "name": "python3"
    },
    "language_info": {
      "name": "python"
    }
  },
  "nbformat": 4,
  "nbformat_minor": 0
}